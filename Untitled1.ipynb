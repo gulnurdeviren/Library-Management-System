{
  "nbformat": 4,
  "nbformat_minor": 0,
  "metadata": {
    "colab": {
      "provenance": [],
      "authorship_tag": "ABX9TyOyBeRGBe/eonZAM+wrH90u",
      "include_colab_link": true
    },
    "kernelspec": {
      "name": "python3",
      "display_name": "Python 3"
    },
    "language_info": {
      "name": "python"
    }
  },
  "cells": [
    {
      "cell_type": "markdown",
      "metadata": {
        "id": "view-in-github",
        "colab_type": "text"
      },
      "source": [
        "<a href=\"https://colab.research.google.com/github/gulnurdeviren/Library-Management-System/blob/main/Untitled1.ipynb\" target=\"_parent\"><img src=\"https://colab.research.google.com/assets/colab-badge.svg\" alt=\"Open In Colab\"/></a>"
      ]
    },
    {
      "cell_type": "code",
      "execution_count": null,
      "metadata": {
        "id": "zxvZ12-TCrXD"
      },
      "outputs": [],
      "source": [
        "class Library:\n",
        "    def __init__(self):\n",
        "        self.file = open(\"books.txt\", \"a+\")\n",
        "        print(\"books.txt file is opened\")\n",
        "\n",
        "    def __del__(self):\n",
        "        self.file.close()\n",
        "        print(\"books.txt file is closed\")\n",
        "\n",
        "    def list_books(self):\n",
        "        self.file.seek(0)\n",
        "        books = self.file.read().splitlines()\n",
        "        for book in books:\n",
        "            title, author, first_release_year, num_page = book.split(',')\n",
        "            print(f\"Title: {title}, Author: {author}\")\n",
        "\n",
        "    def add_book(self):\n",
        "        title = input(\"Write the title of the book: \")\n",
        "        author = input(\"Write the author of the book: \")\n",
        "        first_release_year = input(\"Write the first release year of the book: \")\n",
        "        num_page = input(\"Write the number of pages of the book: \")\n",
        "        book_information = f\"{title},{author},{first_release_year},{num_page}\\n\"\n",
        "        self.file.write(book_information)\n",
        "        print(\"Book added successfully.\")\n",
        "\n",
        "    def remove_book(self):\n",
        "        title = input(\"Type the name of the book to be deleted: \")\n",
        "        self.file.seek(0)\n",
        "        books = self.file.readlines()\n",
        "        updated_books = [book for book in books if title not in book]\n",
        "        self.file.seek(0)\n",
        "        self.file.truncate()\n",
        "        self.file.writelines(updated_books)\n",
        "        print(\"Book removed successfully.\")\n",
        "\n",
        "# 1Library object\n",
        "library = Library()\n",
        "\n",
        "while True:\n",
        "    print(\"\\n*** MENU ***\")\n",
        "    print(\"1) List Books\")\n",
        "    print(\"2) Add Book\")\n",
        "    print(\"3) Remove Book\")\n",
        "    print(\"4) Exit\")\n",
        "\n",
        "    your_choice = input(\"Enter your number according to what you want to do: \")\n",
        "    if your_choice == '1':\n",
        "        library.list_books()\n",
        "    elif your_choice == '2':\n",
        "        library.add_book()\n",
        "    elif your_choice == '3':\n",
        "        library.remove_book()\n",
        "    elif your_choice == '4':\n",
        "        break\n",
        "    else:\n",
        "        print(\"Invalid choice. Please enter a number from 1 to 4.\")\n"
      ]
    }
  ]
}